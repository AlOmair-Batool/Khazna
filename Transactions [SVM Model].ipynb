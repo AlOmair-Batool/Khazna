{
 "cells": [
  {
   "cell_type": "code",
   "execution_count": 163,
   "id": "de82cddb",
   "metadata": {},
   "outputs": [],
   "source": [
    "import pandas as pd\n",
    "import numpy as np\n",
    "import seaborn as sns\n",
    "from nltk.tokenize import word_tokenize\n",
    "from nltk.tokenize import RegexpTokenizer\n",
    "from nltk import pos_tag\n",
    "import nltk\n",
    "from nltk import  punkt\n",
    "from nltk.corpus import stopwords\n",
    "from nltk.stem import WordNetLemmatizer\n",
    "from sklearn.preprocessing import LabelEncoder\n",
    "from collections import defaultdict\n",
    "from nltk.corpus import wordnet as wn\n",
    "from sklearn.feature_extraction.text import TfidfVectorizer\n",
    "from sklearn import model_selection, naive_bayes, svm\n",
    "from sklearn.metrics import accuracy_score\n",
    "import csv\n",
    "from nltk.corpus import wordnet\n",
    "import matplotlib.pyplot as plt\n",
    "from sklearn.model_selection import train_test_split\n",
    "from sklearn.preprocessing import StandardScaler\n",
    "from sklearn.metrics import accuracy_score, plot_confusion_matrix\n",
    "from sklearn.metrics import classification_report, confusion_matrix\n",
    "from sklearn.neighbors import KNeighborsClassifier\n",
    "import warnings\n",
    "warnings.filterwarnings('ignore')\n",
    "%matplotlib inline"
   ]
  },
  {
   "cell_type": "code",
   "execution_count": 164,
   "id": "8d44027e",
   "metadata": {},
   "outputs": [],
   "source": [
    "np.random.seed(500)"
   ]
  },
  {
   "cell_type": "code",
   "execution_count": 165,
   "id": "ba4fea6d",
   "metadata": {},
   "outputs": [
    {
     "data": {
      "image/png": "[encoded data removed]",
      "text/plain": [
       "<Figure size 648x360 with 1 Axes>"
      ]
     },
     "metadata": {
      "needs_background": "light"
     },
     "output_type": "display_data"
    }
   ],
   "source": [
    "transactions = pd.read_csv(\"newtransactions.csv\",encoding='latin-1')\n",
    "missing_value = pd.DataFrame(transactions.isna().sum().sort_values(ascending=False),columns=['No.records'])\n",
    "missing_value['percentage']=(transactions.isna().sum()/len(transactions))*100\n",
    "missing_value\n",
    "\n",
    "fig, ax = plt.subplots(figsize=(9,5))\n",
    "sns.heatmap(transactions.isnull(), cbar=False, cmap=\"Purples\")\n",
    "plt.show()"
   ]
  },
  {
   "cell_type": "code",
   "execution_count": 166,
   "id": "3f4f1c31",
   "metadata": {},
   "outputs": [],
   "source": [
    "transactions['sms'].dropna(inplace=True)"
   ]
  },
  {
   "cell_type": "code",
   "execution_count": 167,
   "id": "d69013c1",
   "metadata": {},
   "outputs": [],
   "source": [
    "transactions['sms'] = [entry.lower() for entry in transactions['sms']]"
   ]
  },
  {
   "cell_type": "code",
   "execution_count": 168,
   "id": "a8eb21b1",
   "metadata": {},
   "outputs": [
    {
     "data": {
      "text/html": [
       "<div>\n",
       "<style scoped>\n",
       "    .dataframe tbody tr th:only-of-type {\n",
       "        vertical-align: middle;\n",
       "    }\n",
       "\n",
       "    .dataframe tbody tr th {\n",
       "        vertical-align: top;\n",
       "    }\n",
       "\n",
       "    .dataframe thead th {\n",
       "        text-align: right;\n",
       "    }\n",
       "</style>\n",
       "<table border=\"1\" class=\"dataframe\">\n",
       "  <thead>\n",
       "    <tr style=\"text-align: right;\">\n",
       "      <th></th>\n",
       "      <th>ï»¿bankname</th>\n",
       "      <th>type</th>\n",
       "      <th>sms</th>\n",
       "    </tr>\n",
       "  </thead>\n",
       "  <tbody>\n",
       "    <tr>\n",
       "      <th>0</th>\n",
       "      <td>AlAhli</td>\n",
       "      <td>Withdrawl</td>\n",
       "      <td>pos purchase (apple pay)\\namount 990 sar\\nmada...</td>\n",
       "    </tr>\n",
       "    <tr>\n",
       "      <th>1</th>\n",
       "      <td>Sabb</td>\n",
       "      <td>Other</td>\n",
       "      <td>dear customer, please update your personal inf...</td>\n",
       "    </tr>\n",
       "    <tr>\n",
       "      <th>2</th>\n",
       "      <td>Gulf International bank</td>\n",
       "      <td>Withdrawl</td>\n",
       "      <td>atm withdrawal \\namount: sar 2,500.00 \\ncard:*...</td>\n",
       "    </tr>\n",
       "    <tr>\n",
       "      <th>3</th>\n",
       "      <td>Gulf International bank</td>\n",
       "      <td>Withdrawl</td>\n",
       "      <td>pos purchase\\namount: sar 85.42\\nat:aldrees 40...</td>\n",
       "    </tr>\n",
       "    <tr>\n",
       "      <th>4</th>\n",
       "      <td>Gulf International bank</td>\n",
       "      <td>Other</td>\n",
       "      <td>notification: online banking service\\nstatus: ...</td>\n",
       "    </tr>\n",
       "  </tbody>\n",
       "</table>\n",
       "</div>"
      ],
      "text/plain": [
       "               ï»¿bankname       type  \\\n",
       "0                   AlAhli  Withdrawl   \n",
       "1                     Sabb      Other   \n",
       "2  Gulf International bank  Withdrawl   \n",
       "3  Gulf International bank  Withdrawl   \n",
       "4  Gulf International bank      Other   \n",
       "\n",
       "                                                 sms  \n",
       "0  pos purchase (apple pay)\\namount 990 sar\\nmada...  \n",
       "1  dear customer, please update your personal inf...  \n",
       "2  atm withdrawal \\namount: sar 2,500.00 \\ncard:*...  \n",
       "3  pos purchase\\namount: sar 85.42\\nat:aldrees 40...  \n",
       "4  notification: online banking service\\nstatus: ...  "
      ]
     },
     "execution_count": 168,
     "metadata": {},
     "output_type": "execute_result"
    }
   ],
   "source": [
    "transactions.head()"
   ]
  },
  {
   "cell_type": "code",
   "execution_count": 169,
   "id": "b4f9360b",
   "metadata": {},
   "outputs": [
    {
     "name": "stdout",
     "output_type": "stream",
     "text": [
      "(204, 3)\n",
      "612\n",
      "0      pos purchase (apple pay)\\namount 990 sar\\nmada...\n",
      "1      dear customer, please update your personal inf...\n",
      "2      atm withdrawal \\namount: sar 2,500.00 \\ncard:*...\n",
      "3      pos purchase\\namount: sar 85.42\\nat:aldrees 40...\n",
      "4      notification: online banking service\\nstatus: ...\n",
      "                             ...                        \n",
      "199    credit transfer internal\\namount: 1,400 sar\\nt...\n",
      "200    dear customer,\\nto complete the internet purch...\n",
      "201    online purchase\\namount: 48.85 sar\\nmada card:...\n",
      "202    debit transfer internal\\namount: 200 sar\\nto b...\n",
      "203    mada atheer pos purchase\\namount: 129 sar\\nmad...\n",
      "Name: sms, Length: 204, dtype: object\n"
     ]
    }
   ],
   "source": [
    "print(transactions.shape)\n",
    "print(transactions.size)\n",
    "print(transactions['sms'])"
   ]
  },
  {
   "cell_type": "code",
   "execution_count": 170,
   "id": "a1d2afa3",
   "metadata": {},
   "outputs": [],
   "source": [
    "#this method deletes arabic word in an english text\n",
    "def remove_arabic(msg):\n",
    "    arr_msg = msg.split(' ');\n",
    "\n",
    "    regexPattern = \"^[a-zA-Z0-9]*$\";\n",
    "\n",
    "    english_arr_msg = [ i for i in arr_msg if re.search(regexPattern,i) and i != '']\n",
    "\n",
    "\n",
    "    space = \" \"\n",
    "    return space.join(english_arr_msg)\n"
   ]
  },
  {
   "cell_type": "code",
   "execution_count": 171,
   "id": "deb97562",
   "metadata": {},
   "outputs": [],
   "source": [
    "#remove_arabic\n",
    "transactions['sms'] = [remove_arabic(entry) for entry in transactions['sms']]\n"
   ]
  },
  {
   "cell_type": "code",
   "execution_count": 172,
   "id": "a3923880",
   "metadata": {},
   "outputs": [],
   "source": [
    "#tokenizedWords = np.empty(204, dtype = str)\n",
    "tokenizer = RegexpTokenizer(\"[\\w+|\\$[\\d\\.]+|\\S+]+\")\n",
    "\n",
    "#for i in range(204):\n",
    "   # for x in transactions['sms']:\n",
    "     #       token =  tokenizer.tokenize(x)\n",
    "        \n",
    "transactions['sms']= [tokenizer.tokenize(entry) for entry in transactions['sms']]\n",
    "           \n",
    "       "
   ]
  },
  {
   "cell_type": "code",
   "execution_count": 173,
   "id": "68000813",
   "metadata": {},
   "outputs": [
    {
     "name": "stdout",
     "output_type": "stream",
     "text": [
      "['sar']\n"
     ]
    }
   ],
   "source": [
    "#Test row number 4 with tozentation \n",
    "print(transactions['sms'][5])"
   ]
  },
  {
   "cell_type": "code",
   "execution_count": 174,
   "id": "ff348d33",
   "metadata": {},
   "outputs": [
    {
     "name": "stderr",
     "output_type": "stream",
     "text": [
      "[nltk_data] Downloading package wordnet to /Users/hailah/nltk_data...\n",
      "[nltk_data]   Package wordnet is already up-to-date!\n",
      "[nltk_data] Downloading package omw-1.4 to /Users/hailah/nltk_data...\n",
      "[nltk_data]   Package omw-1.4 is already up-to-date!\n",
      "[nltk_data] Downloading package averaged_perceptron_tagger to\n",
      "[nltk_data]     /Users/hailah/nltk_data...\n",
      "[nltk_data]   Package averaged_perceptron_tagger is already up-to-\n",
      "[nltk_data]       date!\n",
      "[nltk_data] Downloading package stopwords to\n",
      "[nltk_data]     /Users/hailah/nltk_data...\n",
      "[nltk_data]   Package stopwords is already up-to-date!\n"
     ]
    }
   ],
   "source": [
    "\n",
    "nltk.download('wordnet')\n",
    "nltk.download('omw-1.4')\n",
    "nltk.download('averaged_perceptron_tagger')\n",
    "nltk.download('stopwords')\n",
    "# Step - d : Remove Stop words, Non-Numeric and perfom Word Stemming/Lemmenting.\n",
    "# WordNetLemmatizer requires Pos tags to understand if the word is noun or verb or adjective etc. By default it is set to Noun\n",
    "tag_map = defaultdict(lambda : wn.NOUN)\n",
    "tag_map['J'] = wn.ADJ\n",
    "tag_map['V'] = wn.VERB\n",
    "tag_map['R'] = wn.ADV\n",
    "\n",
    "\n",
    "for index,entry in enumerate(transactions['sms']):\n",
    "    # Declaring Empty List to store the words that follow the rules for this step\n",
    "    Final_words = []\n",
    "    # Initializing WordNetLemmatizer()\n",
    "    word_Lemmatized = WordNetLemmatizer()\n",
    "    # pos_tag function below will provide the 'tag' i.e if the word is Noun(N) or Verb(V) or something else.\n",
    "    \n",
    "    for word, tag in pos_tag(entry):\n",
    "        # Below condition is to check for Stop words and consider only alphabets\n",
    "        if word not in stopwords.words('english') and word.isalpha():\n",
    "                   word_Final = word_Lemmatized.lemmatize(word,tag_map[tag[0]])\n",
    "    Final_words.append(word_Final)\n",
    "    # The final processed set of words for each iteration will be stored in 'text_final'\n",
    "    transactions.loc[index,'sms_final'] = str(Final_words)\n",
    "     "
   ]
  },
  {
   "cell_type": "code",
   "execution_count": null,
   "id": "7536cf35",
   "metadata": {},
   "outputs": [],
   "source": []
  }
 ],
 "metadata": {
  "kernelspec": {
   "display_name": "Python 3",
   "language": "python",
   "name": "python3"
  },
  "language_info": {
   "codemirror_mode": {
    "name": "ipython",
    "version": 3
   },
   "file_extension": ".py",
   "mimetype": "text/x-python",
   "name": "python",
   "nbconvert_exporter": "python",
   "pygments_lexer": "ipython3",
   "version": "3.8.8"
  }
 },
 "nbformat": 4,
 "nbformat_minor": 5
}
