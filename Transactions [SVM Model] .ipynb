{
 "cells": [
  {
   "cell_type": "code",
   "execution_count": 1,
   "id": "de82cddb",
   "metadata": {},
   "outputs": [],
   "source": [
    "import pandas as pd\n",
    "import numpy as np\n",
    "import seaborn as sns\n",
    "from nltk.tokenize import word_tokenize\n",
    "from nltk.tokenize import RegexpTokenizer\n",
    "from nltk import pos_tag\n",
    "import nltk\n",
    "from nltk import  punkt\n",
    "from nltk.corpus import stopwords\n",
    "from nltk.stem import WordNetLemmatizer\n",
    "from sklearn.preprocessing import LabelEncoder\n",
    "from collections import defaultdict\n",
    "from nltk.corpus import wordnet as wn\n",
    "from sklearn.feature_extraction.text import TfidfVectorizer\n",
    "from sklearn import model_selection, naive_bayes, svm\n",
    "from sklearn.metrics import accuracy_score\n",
    "import matplotlib.pyplot as plt\n",
    "import csv\n",
    "from nltk.corpus import wordnet\n",
    "import matplotlib.pyplot as plt\n",
    "from sklearn.model_selection import train_test_split\n",
    "from sklearn.preprocessing import StandardScaler\n",
    "from sklearn.metrics import accuracy_score, plot_confusion_matrix\n",
    "from sklearn.metrics import classification_report, confusion_matrix\n",
    "from sklearn.neighbors import KNeighborsClassifier\n",
    "import warnings\n",
    "import re\n",
    "warnings.filterwarnings('ignore')\n",
    "%matplotlib inline"
   ]
  },
  {
   "cell_type": "code",
   "execution_count": 2,
   "id": "8d44027e",
   "metadata": {},
   "outputs": [],
   "source": [
    "np.random.seed(500)"
   ]
  },
  {
   "cell_type": "code",
   "execution_count": 4,
   "id": "ba4fea6d",
   "metadata": {},
   "outputs": [
    {
     "data": {
      "image/png": "[encoded data removed]",
      "text/plain": [
       "<Figure size 648x360 with 1 Axes>"
      ]
     },
     "metadata": {
      "needs_background": "light"
     },
     "output_type": "display_data"
    }
   ],
   "source": [
    "transactions = pd.read_csv(r\"C:\\Users\\Batool\\Downloads\\newtransactions.csv\",encoding='latin-1')\n",
    "missing_value = pd.DataFrame(transactions.isna().sum().sort_values(ascending=False),columns=['No.records'])\n",
    "missing_value['percentage']=(transactions.isna().sum()/len(transactions))*100\n",
    "missing_value\n",
    "\n",
    "fig, ax = plt.subplots(figsize=(9,5))\n",
    "sns.heatmap(transactions.isnull(), cbar=False, cmap=\"Purples\")\n",
    "plt.show()"
   ]
  },
  {
   "cell_type": "code",
   "execution_count": 5,
   "id": "3f4f1c31",
   "metadata": {},
   "outputs": [],
   "source": [
    "transactions['sms'].dropna(inplace=True)"
   ]
  },
  {
   "cell_type": "code",
   "execution_count": 6,
   "id": "d69013c1",
   "metadata": {},
   "outputs": [],
   "source": [
    "transactions['sms'] = [entry.lower() for entry in transactions['sms']]"
   ]
  },
  {
   "cell_type": "code",
   "execution_count": 7,
   "id": "a8eb21b1",
   "metadata": {},
   "outputs": [
    {
     "data": {
      "text/html": [
       "<div>\n",
       "<style scoped>\n",
       "    .dataframe tbody tr th:only-of-type {\n",
       "        vertical-align: middle;\n",
       "    }\n",
       "\n",
       "    .dataframe tbody tr th {\n",
       "        vertical-align: top;\n",
       "    }\n",
       "\n",
       "    .dataframe thead th {\n",
       "        text-align: right;\n",
       "    }\n",
       "</style>\n",
       "<table border=\"1\" class=\"dataframe\">\n",
       "  <thead>\n",
       "    <tr style=\"text-align: right;\">\n",
       "      <th></th>\n",
       "      <th>ï»¿bankname</th>\n",
       "      <th>type</th>\n",
       "      <th>sms</th>\n",
       "    </tr>\n",
       "  </thead>\n",
       "  <tbody>\n",
       "    <tr>\n",
       "      <th>0</th>\n",
       "      <td>AlAhli</td>\n",
       "      <td>Withdrawl</td>\n",
       "      <td>pos purchase (apple pay)\\namount 990 sar\\nmada...</td>\n",
       "    </tr>\n",
       "    <tr>\n",
       "      <th>1</th>\n",
       "      <td>Sabb</td>\n",
       "      <td>Other</td>\n",
       "      <td>dear customer, please update your personal inf...</td>\n",
       "    </tr>\n",
       "    <tr>\n",
       "      <th>2</th>\n",
       "      <td>Gulf International bank</td>\n",
       "      <td>Withdrawl</td>\n",
       "      <td>atm withdrawal \\namount: sar 2,500.00 \\ncard:*...</td>\n",
       "    </tr>\n",
       "    <tr>\n",
       "      <th>3</th>\n",
       "      <td>Gulf International bank</td>\n",
       "      <td>Withdrawl</td>\n",
       "      <td>pos purchase\\namount: sar 85.42\\nat:aldrees 40...</td>\n",
       "    </tr>\n",
       "    <tr>\n",
       "      <th>4</th>\n",
       "      <td>Gulf International bank</td>\n",
       "      <td>Other</td>\n",
       "      <td>notification: online banking service\\nstatus: ...</td>\n",
       "    </tr>\n",
       "  </tbody>\n",
       "</table>\n",
       "</div>"
      ],
      "text/plain": [
       "               ï»¿bankname       type  \\\n",
       "0                   AlAhli  Withdrawl   \n",
       "1                     Sabb      Other   \n",
       "2  Gulf International bank  Withdrawl   \n",
       "3  Gulf International bank  Withdrawl   \n",
       "4  Gulf International bank      Other   \n",
       "\n",
       "                                                 sms  \n",
       "0  pos purchase (apple pay)\\namount 990 sar\\nmada...  \n",
       "1  dear customer, please update your personal inf...  \n",
       "2  atm withdrawal \\namount: sar 2,500.00 \\ncard:*...  \n",
       "3  pos purchase\\namount: sar 85.42\\nat:aldrees 40...  \n",
       "4  notification: online banking service\\nstatus: ...  "
      ]
     },
     "execution_count": 7,
     "metadata": {},
     "output_type": "execute_result"
    }
   ],
   "source": [
    "transactions.head()"
   ]
  },
  {
   "cell_type": "code",
   "execution_count": 8,
   "id": "b4f9360b",
   "metadata": {},
   "outputs": [
    {
     "name": "stdout",
     "output_type": "stream",
     "text": [
      "(204, 3)\n",
      "612\n",
      "0      pos purchase (apple pay)\\namount 990 sar\\nmada...\n",
      "1      dear customer, please update your personal inf...\n",
      "2      atm withdrawal \\namount: sar 2,500.00 \\ncard:*...\n",
      "3      pos purchase\\namount: sar 85.42\\nat:aldrees 40...\n",
      "4      notification: online banking service\\nstatus: ...\n",
      "                             ...                        \n",
      "199    credit transfer internal\\namount: 1,400 sar\\nt...\n",
      "200    dear customer,\\nto complete the internet purch...\n",
      "201    online purchase\\namount: 48.85 sar\\nmada card:...\n",
      "202    debit transfer internal\\namount: 200 sar\\nto b...\n",
      "203    mada atheer pos purchase\\namount: 129 sar\\nmad...\n",
      "Name: sms, Length: 204, dtype: object\n"
     ]
    }
   ],
   "source": [
    "print(transactions.shape)\n",
    "print(transactions.size)\n",
    "print(transactions['sms'])"
   ]
  },
  {
   "cell_type": "code",
   "execution_count": 9,
   "id": "fe4b73f3",
   "metadata": {},
   "outputs": [],
   "source": [
    "#this method deletes arabic word in an english text\n",
    "def remove_arabic(msg):\n",
    "    arr_msg = msg.split(' ');\n",
    "    \n",
    "\n",
    "    regexPattern = \"^[A-Za-z0-9]+\";\n",
    "    \n",
    "\n",
    "    english_arr_msg = [ i for i in arr_msg if re.search(regexPattern,i) and i != '']\n",
    "\n",
    "\n",
    "    space = \" \"\n",
    "    return space.join(english_arr_msg)\n"
   ]
  },
  {
   "cell_type": "code",
   "execution_count": 11,
   "id": "cd348424",
   "metadata": {},
   "outputs": [
    {
     "name": "stdout",
     "output_type": "stream",
     "text": [
      "outgoing fund transfer approved\n",
      "from: sar 76.29\n",
      "beneficiary name: iban: bank: 05-08-2022 21:46:04\n",
      "reference id: 2240434872\n",
      "transaction id: sd6775406\n"
     ]
    }
   ],
   "source": [
    "#remove_arabic\n",
    "transactions['sms'] = [remove_arabic(entry) for entry in transactions['sms']]\n",
    "\n",
    "#test message before tokenize it & all arabic text removed \n",
    "print(transactions['sms'][10])\n"
   ]
  },
  {
   "cell_type": "code",
   "execution_count": 12,
   "id": "a3923880",
   "metadata": {},
   "outputs": [],
   "source": [
    "#tokenizedWords = np.empty(204, dtype = str)\n",
    "tokenizer = RegexpTokenizer(\"[\\w+|\\$[\\d\\.]+|\\S+]+\")\n",
    "\n",
    "#for i in range(204):\n",
    "   # for x in transactions['sms']:\n",
    "     #       token =  tokenizer.tokenize(x)\n",
    "        \n",
    "transactions['sms']= [tokenizer.tokenize(entry) for entry in transactions['sms']]\n",
    "           \n",
    "       "
   ]
  },
  {
   "cell_type": "code",
   "execution_count": 13,
   "id": "68000813",
   "metadata": {},
   "outputs": [
    {
     "name": "stdout",
     "output_type": "stream",
     "text": [
      "['outgoing', 'fund', 'transfer', 'approved', 'from', 'sar', '76.29', 'beneficiary', 'name', 'iban', 'bank', '05', '08', '2022', '21', '46', '04', 'reference', 'id', '2240434872', 'transaction', 'id', 'sd6775406']\n"
     ]
    }
   ],
   "source": [
    "#Test row number 4 with tozentation \n",
    "#PoS Purchase (Apple Pay)\n",
    "#Amount 990 SAR\n",
    "#Mada card *1868\n",
    "#Account 745*104\n",
    "#From STC Pay\n",
    "#on 29/03/2022 at 12:50\n",
    "\n",
    "#Do we care about date as whole? Do we care as time as a whole? to differnciate between time-date and amount :)?\n",
    "\n",
    "print(transactions['sms'][10])"
   ]
  },
  {
   "cell_type": "code",
   "execution_count": 14,
   "id": "ff348d33",
   "metadata": {
    "scrolled": true
   },
   "outputs": [
    {
     "name": "stderr",
     "output_type": "stream",
     "text": [
      "[nltk_data] Downloading package wordnet to\n",
      "[nltk_data]     C:\\Users\\Batool\\AppData\\Roaming\\nltk_data...\n",
      "[nltk_data]   Package wordnet is already up-to-date!\n",
      "[nltk_data] Downloading package omw-1.4 to\n",
      "[nltk_data]     C:\\Users\\Batool\\AppData\\Roaming\\nltk_data...\n",
      "[nltk_data]   Package omw-1.4 is already up-to-date!\n",
      "[nltk_data] Downloading package averaged_perceptron_tagger to\n",
      "[nltk_data]     C:\\Users\\Batool\\AppData\\Roaming\\nltk_data...\n",
      "[nltk_data]   Package averaged_perceptron_tagger is already up-to-\n",
      "[nltk_data]       date!\n",
      "[nltk_data] Downloading package stopwords to\n",
      "[nltk_data]     C:\\Users\\Batool\\AppData\\Roaming\\nltk_data...\n",
      "[nltk_data]   Package stopwords is already up-to-date!\n"
     ]
    }
   ],
   "source": [
    "nltk.download('wordnet')\n",
    "nltk.download('omw-1.4')\n",
    "nltk.download('averaged_perceptron_tagger')\n",
    "nltk.download('stopwords')\n",
    "\n",
    "# Step - d : Remove Stop words, Non-Numeric and perfom Word Stemming/Lemmenting.\n",
    "# WordNetLemmatizer requires Pos tags to understand if the word is noun or verb or adjective etc. By default it is set to Noun\n",
    "tag_map = defaultdict(lambda : wn.NOUN)\n",
    "tag_map['J'] = wn.ADJ\n",
    "tag_map['V'] = wn.VERB\n",
    "tag_map['R'] = wn.ADV\n",
    "\n",
    "\n",
    "for index,entry in enumerate(transactions['sms']):\n",
    "    # Declaring Empty List to store the words that follow the rules for this step\n",
    "    Final_words = []\n",
    "    # Initializing WordNetLemmatizer()\n",
    "    word_Lemmatized = WordNetLemmatizer()\n",
    "    # pos_tag function below will provide the 'tag' i.e if the word is Noun(N) or Verb(V) or something else.\n",
    "    \n",
    "    for word, tag in pos_tag(entry):\n",
    "        # Below condition is to check for Stop words and consider only alphabets\n",
    "        if word not in stopwords.words('english') and word.isalpha():\n",
    "                   word_Final = word_Lemmatized.lemmatize(word,tag_map[tag[0]])\n",
    "    Final_words.append(word_Final)\n",
    "    # The final processed set of words for each iteration will be stored in 'sms_final'\n",
    "    transactions.loc[index,'sms_final'] = str(Final_words)"
   ]
  },
  {
   "cell_type": "code",
   "execution_count": 15,
   "id": "3a640a25",
   "metadata": {},
   "outputs": [
    {
     "data": {
      "text/plain": [
       "<Figure size 432x720 with 0 Axes>"
      ]
     },
     "metadata": {},
     "output_type": "display_data"
    },
    {
     "data": {
      "image/png": "[encoded data removed]",
      "text/plain": [
       "<Figure size 720x720 with 1 Axes>"
      ]
     },
     "metadata": {},
     "output_type": "display_data"
    }
   ],
   "source": [
    "#Save CSV after modicifactions to data analysis\n",
    "\n",
    "#transactions.to_csv('transactions.csv', index=False)\n",
    "\n",
    "import matplotlib.pyplot as plt\n",
    "import pandas as pd\n",
    "\n",
    "\n",
    "df =  pd.read_csv('transactions.csv')\n",
    "\n",
    "bankSet = ['Alinma','AlAhli', 'Sabb', 'Arab National Bank', 'Riyad Bank', 'AlBilad', 'Gulf International Bank', 'AlFaransi',\n",
    "          'AlJazeera', 'AlRajhi']\n",
    "\n",
    "explode = [0, 0, 0, 0, 0, 0, 0, 0.3, 0.5, 0.2]\n",
    "colors =  ['#03071E', '#370617', '#6A040F', '#9D0208', '#D00000', '#DC2F02', '#E85D04', '#F48C06', '#FAA307', '#FFBA08']\n",
    "fig = plt.figure()\n",
    "fig.set_figheight(10) \n",
    "textprops = {\"fontsize\":15}\n",
    "\n",
    "plt.figure(figsize=(10,10))\n",
    "\n",
    "df['bankname'].value_counts().plot.pie(labels = None ,startangle=140, textprops =textprops, autopct='%.1f%%',\n",
    "                                       pctdistance=1.2, rotatelabels=180, colors = colors, radius=0.9, explode=explode)\n",
    "\n",
    "\n",
    "#plt.legend( loc=\"best\", labels=country) \n",
    " \n",
    "plt.title(\"Percentages of SMS from different banks\", fontsize=20)\n",
    "plt.legend(loc='upper center', \n",
    "           bbox_to_anchor=(0.5, -0.04), ncol=2, labels=bankSet, fontsize=15)\n",
    "plt.xlabel(\" \")\n",
    "plt.ylabel(\" \")\n",
    "\n",
    "\n",
    "plt.show()\n",
    "\n"
   ]
  },
  {
   "cell_type": "code",
   "execution_count": 16,
   "id": "0c363cbe",
   "metadata": {},
   "outputs": [
    {
     "data": {
      "image/png": "[encoded data removed]",
      "text/plain": [
       "<Figure size 432x288 with 1 Axes>"
      ]
     },
     "metadata": {
      "needs_background": "light"
     },
     "output_type": "display_data"
    }
   ],
   "source": [
    "colors =  ['#03071E', '#370617', '#6A040F']\n",
    "df[\"type\"].value_counts().plot(kind=\"bar\", color='#D00000', fontsize = 14)\n",
    "plt.title(\"Numer of SMS messages for each type\", fontsize=13)\n",
    "\n",
    "plt.xlabel(\"Type\",fontsize=13)\n",
    "plt.ylabel(\"No. of SMS messages\", fontsize=13)\n",
    "\n",
    "\n",
    "plt.show()"
   ]
  },
  {
   "cell_type": "code",
   "execution_count": 17,
   "id": "bf867345",
   "metadata": {},
   "outputs": [],
   "source": [
    "Train_X, Test_X, Train_Y, Test_Y = model_selection.train_test_split(transactions['sms_final'],transactions['type'],test_size=0.3)\n"
   ]
  },
  {
   "cell_type": "code",
   "execution_count": 18,
   "id": "5762895a",
   "metadata": {},
   "outputs": [],
   "source": [
    "Encoder = LabelEncoder()\n",
    "Train_Y = Encoder.fit_transform(Train_Y)\n",
    "Test_Y = Encoder.fit_transform(Test_Y)"
   ]
  },
  {
   "cell_type": "code",
   "execution_count": 19,
   "id": "33cccfeb",
   "metadata": {},
   "outputs": [],
   "source": [
    "Tfidf_vect = TfidfVectorizer(max_features=5000)\n",
    "Tfidf_vect.fit(transactions['sms_final'])\n",
    "Train_X_Tfidf = Tfidf_vect.transform(Train_X)\n",
    "Test_X_Tfidf = Tfidf_vect.transform(Test_X)"
   ]
  },
  {
   "cell_type": "code",
   "execution_count": 20,
   "id": "4c5b08bc",
   "metadata": {},
   "outputs": [
    {
     "name": "stdout",
     "output_type": "stream",
     "text": [
      "{'pay': 45, 'sabb': 50, 'date': 19, 'center': 15, 'appreciate': 5, 'another': 3, 'id': 31, 'ref': 47, 'bank': 9, 'logon': 36, 'co': 17, 'mada': 37, 'authentication': 8, 'riyadh': 49, 'account': 0, 'mobile': 40, 'different': 21, 'nana': 42, 'login': 35, 'password': 44, 'dunkin': 23, 'market': 38, 'add': 2, 'app': 4, 'street': 54, 'mrsool': 41, 'arabia': 7, 'barn': 10, 'redeem': 46, 'time': 56, 'sar': 51, 'transfer': 57, 'email': 25, 'ar': 6, 'kr': 33, 'hungerstation': 29, 'est': 26, 'merchant': 39, 'thank': 55, 'immediately': 32, 'social': 52, 'fraud': 28, 'biometric': 11, 'number': 43, 'starbucks': 53, 'britain': 12, 'cafe': 13, 'ebdaa': 24, 'republic': 48, 'do': 22, 'follow': 27, 'iban': 30, 'debit': 20, 'wallet': 58, 'card': 14, 'activate': 1, 'lefty': 34, 'channel': 16, 'compan': 18}\n"
     ]
    }
   ],
   "source": [
    "print(Tfidf_vect.vocabulary_)"
   ]
  },
  {
   "cell_type": "code",
   "execution_count": 21,
   "id": "e7f8c0fb",
   "metadata": {},
   "outputs": [
    {
     "name": "stdout",
     "output_type": "stream",
     "text": [
      "  (0, 5)\t1.0\n",
      "  (1, 23)\t1.0\n",
      "  (2, 17)\t1.0\n",
      "  (3, 32)\t1.0\n",
      "  (4, 19)\t1.0\n",
      "  (5, 54)\t1.0\n",
      "  (6, 38)\t1.0\n",
      "  (7, 19)\t1.0\n",
      "  (8, 17)\t1.0\n",
      "  (9, 0)\t1.0\n",
      "  (10, 0)\t1.0\n",
      "  (11, 47)\t1.0\n",
      "  (12, 23)\t1.0\n",
      "  (13, 43)\t1.0\n",
      "  (14, 19)\t1.0\n",
      "  (15, 51)\t1.0\n",
      "  (16, 0)\t1.0\n",
      "  (17, 19)\t1.0\n",
      "  (18, 47)\t1.0\n",
      "  (19, 3)\t1.0\n",
      "  (20, 0)\t1.0\n",
      "  (21, 2)\t1.0\n",
      "  (22, 29)\t1.0\n",
      "  (23, 0)\t1.0\n",
      "  (24, 47)\t1.0\n",
      "  :\t:\n",
      "  (117, 23)\t1.0\n",
      "  (118, 41)\t1.0\n",
      "  (119, 57)\t1.0\n",
      "  (120, 19)\t1.0\n",
      "  (121, 9)\t1.0\n",
      "  (122, 0)\t1.0\n",
      "  (123, 19)\t1.0\n",
      "  (124, 45)\t1.0\n",
      "  (125, 0)\t1.0\n",
      "  (126, 48)\t1.0\n",
      "  (127, 36)\t1.0\n",
      "  (128, 19)\t1.0\n",
      "  (129, 44)\t1.0\n",
      "  (130, 23)\t1.0\n",
      "  (131, 38)\t1.0\n",
      "  (132, 44)\t1.0\n",
      "  (133, 45)\t1.0\n",
      "  (134, 23)\t1.0\n",
      "  (135, 47)\t1.0\n",
      "  (136, 42)\t1.0\n",
      "  (137, 1)\t1.0\n",
      "  (138, 31)\t1.0\n",
      "  (139, 51)\t1.0\n",
      "  (140, 47)\t1.0\n",
      "  (141, 33)\t1.0\n"
     ]
    }
   ],
   "source": [
    "print(Train_X_Tfidf)"
   ]
  },
  {
   "cell_type": "code",
   "execution_count": 22,
   "id": "74d6da42",
   "metadata": {},
   "outputs": [
    {
     "name": "stdout",
     "output_type": "stream",
     "text": [
      "Naive Bayes Accuracy Score ->  67.74193548387096\n"
     ]
    }
   ],
   "source": [
    "# fit the training dataset on the NB classifier\n",
    "Naive = naive_bayes.MultinomialNB()\n",
    "Naive.fit(Train_X_Tfidf,Train_Y)\n",
    "# predict the labels on validation dataset\n",
    "predictions_NB = Naive.predict(Test_X_Tfidf)\n",
    "# Use accuracy_score function to get the accuracy\n",
    "print(\"Naive Bayes Accuracy Score -> \",accuracy_score(predictions_NB, Test_Y)*100)"
   ]
  },
  {
   "cell_type": "code",
   "execution_count": 23,
   "id": "65c90ee5",
   "metadata": {},
   "outputs": [
    {
     "name": "stdout",
     "output_type": "stream",
     "text": [
      "SVM Accuracy Score ->  67.74193548387096\n"
     ]
    }
   ],
   "source": [
    "# Classifier - Algorithm - SVM\n",
    "# fit the training dataset on the classifier\n",
    "SVM = svm.SVC(C=1.0, kernel='linear', degree=3, gamma='auto')\n",
    "SVM.fit(Train_X_Tfidf,Train_Y)\n",
    "# predict the labels on validation dataset\n",
    "predictions_SVM = SVM.predict(Test_X_Tfidf)\n",
    "# Use accuracy_score function to get the accuracy\n",
    "print(\"SVM Accuracy Score -> \",accuracy_score(predictions_SVM, Test_Y)*100)"
   ]
  },
  {
   "cell_type": "code",
   "execution_count": null,
   "id": "376f956e",
   "metadata": {},
   "outputs": [],
   "source": []
  }
 ],
 "metadata": {
  "kernelspec": {
   "display_name": "Python 3 (ipykernel)",
   "language": "python",
   "name": "python3"
  },
  "language_info": {
   "codemirror_mode": {
    "name": "ipython",
    "version": 3
   },
   "file_extension": ".py",
   "mimetype": "text/x-python",
   "name": "python",
   "nbconvert_exporter": "python",
   "pygments_lexer": "ipython3",
   "version": "3.9.12"
  }
 },
 "nbformat": 4,
 "nbformat_minor": 5
}
