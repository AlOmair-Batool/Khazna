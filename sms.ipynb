{
 "cells": [
  {
   "cell_type": "code",
   "execution_count": 2,
   "metadata": {},
   "outputs": [],
   "source": [
    "import pandas as pd \n",
    "import numpy as np\n",
    "import matplotlib.pyplot as plt\n",
    "from bidi import algorithm as bidialg\n",
    "import arabic_reshaper\n",
    "\n",
    "import seaborn as sns"
   ]
  },
  {
   "cell_type": "markdown",
   "metadata": {
    "raw_mimetype": "text/html"
   },
   "source": [
    "# Read the file:"
   ]
  },
  {
   "cell_type": "code",
   "execution_count": 3,
   "metadata": {},
   "outputs": [
    {
     "data": {
      "text/html": [
       "<div>\n",
       "<style scoped>\n",
       "    .dataframe tbody tr th:only-of-type {\n",
       "        vertical-align: middle;\n",
       "    }\n",
       "\n",
       "    .dataframe tbody tr th {\n",
       "        vertical-align: top;\n",
       "    }\n",
       "\n",
       "    .dataframe thead th {\n",
       "        text-align: right;\n",
       "    }\n",
       "</style>\n",
       "<table border=\"1\" class=\"dataframe\">\n",
       "  <thead>\n",
       "    <tr style=\"text-align: right;\">\n",
       "      <th></th>\n",
       "      <th>البنك</th>\n",
       "      <th>النوع</th>\n",
       "      <th>الرسالة</th>\n",
       "    </tr>\n",
       "  </thead>\n",
       "  <tbody>\n",
       "    <tr>\n",
       "      <th>0</th>\n",
       "      <td>السعودي الفرنسي</td>\n",
       "      <td>سحب</td>\n",
       "      <td>شراء عبر نقاط البيع\\nالمبلغ: 40.00 SAR\\nاسم ال...</td>\n",
       "    </tr>\n",
       "    <tr>\n",
       "      <th>1</th>\n",
       "      <td>الراجحي</td>\n",
       "      <td>سحب</td>\n",
       "      <td>سحب:صراف آلي\\nبطاقة:*1655;مدى\\nمن:*4116\\nمبلغ:...</td>\n",
       "    </tr>\n",
       "    <tr>\n",
       "      <th>2</th>\n",
       "      <td>السعودي الفرنسي</td>\n",
       "      <td>إيداع</td>\n",
       "      <td>حوالة واردة: محلية\\nالمبلغ المحول: 2590.08 SAR...</td>\n",
       "    </tr>\n",
       "    <tr>\n",
       "      <th>3</th>\n",
       "      <td>ساب</td>\n",
       "      <td>سحب</td>\n",
       "      <td>شراء عبر نقاط البيع\\nبطاقة: ***5053; MASTER; A...</td>\n",
       "    </tr>\n",
       "    <tr>\n",
       "      <th>4</th>\n",
       "      <td>السعودي للاستثمار</td>\n",
       "      <td>سحب</td>\n",
       "      <td>شراء انترنت\\nبطاقة:XXX5393 سفر \\nمن: USD\\nمبلغ...</td>\n",
       "    </tr>\n",
       "  </tbody>\n",
       "</table>\n",
       "</div>"
      ],
      "text/plain": [
       "               البنك  النوع                                            الرسالة\n",
       "0    السعودي الفرنسي   سحب   شراء عبر نقاط البيع\\nالمبلغ: 40.00 SAR\\nاسم ال...\n",
       "1            الراجحي    سحب  سحب:صراف آلي\\nبطاقة:*1655;مدى\\nمن:*4116\\nمبلغ:...\n",
       "2    السعودي الفرنسي  إيداع  حوالة واردة: محلية\\nالمبلغ المحول: 2590.08 SAR...\n",
       "3                ساب    سحب  شراء عبر نقاط البيع\\nبطاقة: ***5053; MASTER; A...\n",
       "4  السعودي للاستثمار    سحب  شراء انترنت\\nبطاقة:XXX5393 سفر \\nمن: USD\\nمبلغ..."
      ]
     },
     "execution_count": 3,
     "metadata": {},
     "output_type": "execute_result"
    }
   ],
   "source": [
    "data=pd.read_excel('Khazna(Arabic).xlsx')\n",
    "data.head()"
   ]
  },
  {
   "cell_type": "code",
   "execution_count": 4,
   "metadata": {},
   "outputs": [
    {
     "data": {
      "text/plain": [
       "(1025, 3)"
      ]
     },
     "execution_count": 4,
     "metadata": {},
     "output_type": "execute_result"
    }
   ],
   "source": [
    "data.shape"
   ]
  },
  {
   "cell_type": "code",
   "execution_count": 4,
   "metadata": {},
   "outputs": [
    {
     "name": "stdout",
     "output_type": "stream",
     "text": [
      "<class 'pandas.core.frame.DataFrame'>\n",
      "RangeIndex: 1025 entries, 0 to 1024\n",
      "Data columns (total 3 columns):\n",
      " #   Column   Non-Null Count  Dtype \n",
      "---  ------   --------------  ----- \n",
      " 0   البنك    1011 non-null   object\n",
      " 1   النوع    1025 non-null   object\n",
      " 2   الرسالة  1025 non-null   object\n",
      "dtypes: object(3)\n",
      "memory usage: 24.1+ KB\n"
     ]
    }
   ],
   "source": [
    "data.info()"
   ]
  },
  {
   "cell_type": "code",
   "execution_count": 5,
   "metadata": {},
   "outputs": [
    {
     "data": {
      "text/plain": [
       "البنك      14\n",
       "النوع       0\n",
       "الرسالة     0\n",
       "dtype: int64"
      ]
     },
     "execution_count": 5,
     "metadata": {},
     "output_type": "execute_result"
    }
   ],
   "source": [
    "data.isna().sum()"
   ]
  },
  {
   "cell_type": "markdown",
   "metadata": {},
   "source": [
    "# Number of messages for each bank:"
   ]
  },
  {
   "cell_type": "code",
   "execution_count": 6,
   "metadata": {},
   "outputs": [
    {
     "data": {
      "text/plain": [
       "البنك\n",
       "الأهلي               137\n",
       "الإنماء               53\n",
       "البلاد                24\n",
       "الجزيرة               12\n",
       "الراجحي              485\n",
       "الرياض                83\n",
       "السعودي الفرنسي      104\n",
       "السعودي للاستثمار     56\n",
       "العربي الوطني          3\n",
       "ساب                   54\n",
       "Name: البنك, dtype: int64"
      ]
     },
     "execution_count": 6,
     "metadata": {},
     "output_type": "execute_result"
    }
   ],
   "source": [
    "bank_data=data.groupby('البنك').agg(\n",
    "    {\n",
    "        'البنك':'count'\n",
    "    }\n",
    ")\n",
    "bank_data['البنك']"
   ]
  },
  {
   "cell_type": "code",
   "execution_count": 7,
   "metadata": {},
   "outputs": [],
   "source": [
    "\n",
    "l=[]\n",
    "for i in bank_data.index:\n",
    "    reshaped_text = arabic_reshaper.reshape(i)\n",
    "    text = bidialg.get_display(reshaped_text )\n",
    "    l.append(text)"
   ]
  },
  {
   "cell_type": "markdown",
   "metadata": {},
   "source": [
    "# Percentage of messages for each bank in graphs:"
   ]
  },
  {
   "cell_type": "code",
   "execution_count": 8,
   "metadata": {},
   "outputs": [
    {
     "data": {
      "image/png": "[encoded data removed]",
      "text/plain": [
       "<Figure size 1440x1440 with 1 Axes>"
      ]
     },
     "metadata": {},
     "output_type": "display_data"
    }
   ],
   "source": [
    "\n",
    "from bidi import algorithm as bidialg\n",
    "#define Seaborn color palette to use\n",
    "colors = sns.color_palette()[0:5]\n",
    "#create pie chart\n",
    "plt.figure(figsize=(20,20))\n",
    "plt.pie(bank_data['البنك'], labels = l , colors = colors, autopct='%.0f%%')\n",
    "plt.show()"
   ]
  },
  {
   "cell_type": "code",
   "execution_count": 9,
   "metadata": {},
   "outputs": [
    {
     "data": {
      "text/plain": [
       "<BarContainer object of 10 artists>"
      ]
     },
     "execution_count": 9,
     "metadata": {},
     "output_type": "execute_result"
    },
    {
     "data": {
      "image/png": "[encoded data removed]",
      "text/plain": [
       "<Figure size 1440x1440 with 1 Axes>"
      ]
     },
     "metadata": {
      "needs_background": "light"
     },
     "output_type": "display_data"
    }
   ],
   "source": [
    "plt.figure(figsize=(20,20))\n",
    "plt.bar(l,bank_data['البنك'],width=1)"
   ]
  },
  {
   "cell_type": "code",
   "execution_count": 10,
   "metadata": {},
   "outputs": [
    {
     "data": {
      "text/html": [
       "<div>\n",
       "<style scoped>\n",
       "    .dataframe tbody tr th:only-of-type {\n",
       "        vertical-align: middle;\n",
       "    }\n",
       "\n",
       "    .dataframe tbody tr th {\n",
       "        vertical-align: top;\n",
       "    }\n",
       "\n",
       "    .dataframe thead th {\n",
       "        text-align: right;\n",
       "    }\n",
       "</style>\n",
       "<table border=\"1\" class=\"dataframe\">\n",
       "  <thead>\n",
       "    <tr style=\"text-align: right;\">\n",
       "      <th></th>\n",
       "      <th>البنك</th>\n",
       "      <th>%</th>\n",
       "    </tr>\n",
       "    <tr>\n",
       "      <th>البنك</th>\n",
       "      <th></th>\n",
       "      <th></th>\n",
       "    </tr>\n",
       "  </thead>\n",
       "  <tbody>\n",
       "    <tr>\n",
       "      <th>الأهلي</th>\n",
       "      <td>137</td>\n",
       "      <td>0.134</td>\n",
       "    </tr>\n",
       "    <tr>\n",
       "      <th>الإنماء</th>\n",
       "      <td>53</td>\n",
       "      <td>0.052</td>\n",
       "    </tr>\n",
       "    <tr>\n",
       "      <th>البلاد</th>\n",
       "      <td>24</td>\n",
       "      <td>0.023</td>\n",
       "    </tr>\n",
       "    <tr>\n",
       "      <th>الجزيرة</th>\n",
       "      <td>12</td>\n",
       "      <td>0.012</td>\n",
       "    </tr>\n",
       "    <tr>\n",
       "      <th>الراجحي</th>\n",
       "      <td>485</td>\n",
       "      <td>0.473</td>\n",
       "    </tr>\n",
       "    <tr>\n",
       "      <th>الرياض</th>\n",
       "      <td>83</td>\n",
       "      <td>0.081</td>\n",
       "    </tr>\n",
       "    <tr>\n",
       "      <th>السعودي الفرنسي</th>\n",
       "      <td>104</td>\n",
       "      <td>0.101</td>\n",
       "    </tr>\n",
       "    <tr>\n",
       "      <th>السعودي للاستثمار</th>\n",
       "      <td>56</td>\n",
       "      <td>0.055</td>\n",
       "    </tr>\n",
       "    <tr>\n",
       "      <th>العربي الوطني</th>\n",
       "      <td>3</td>\n",
       "      <td>0.003</td>\n",
       "    </tr>\n",
       "    <tr>\n",
       "      <th>ساب</th>\n",
       "      <td>54</td>\n",
       "      <td>0.053</td>\n",
       "    </tr>\n",
       "  </tbody>\n",
       "</table>\n",
       "</div>"
      ],
      "text/plain": [
       "                   البنك      %\n",
       "البنك                          \n",
       "الأهلي               137  0.134\n",
       "الإنماء               53  0.052\n",
       "البلاد                24  0.023\n",
       "الجزيرة               12  0.012\n",
       "الراجحي              485  0.473\n",
       "الرياض                83  0.081\n",
       "السعودي الفرنسي      104  0.101\n",
       "السعودي للاستثمار     56  0.055\n",
       "العربي الوطني          3  0.003\n",
       "ساب                   54  0.053"
      ]
     },
     "execution_count": 10,
     "metadata": {},
     "output_type": "execute_result"
    }
   ],
   "source": [
    "present=[]\n",
    "for i in bank_data['البنك']:\n",
    "    present.append(round(i/len(data),3))\n",
    "bank_data['%']=present\n",
    "bank_data"
   ]
  },
  {
   "cell_type": "markdown",
   "metadata": {},
   "source": [
    "# Data preprocessing:\n",
    "## - Make type labels unique for the SVM"
   ]
  },
  {
   "cell_type": "code",
   "execution_count": 11,
   "metadata": {},
   "outputs": [
    {
     "data": {
      "text/plain": [
       "array(['سحب ', 'سحب', 'إيداع', 'أخرى', 'إيداع '], dtype=object)"
      ]
     },
     "execution_count": 11,
     "metadata": {},
     "output_type": "execute_result"
    }
   ],
   "source": [
    "data['النوع'].unique()"
   ]
  },
  {
   "cell_type": "code",
   "execution_count": 12,
   "metadata": {},
   "outputs": [
    {
     "data": {
      "text/plain": [
       "array(['سحب', 'إيداع', 'أخرى'], dtype=object)"
      ]
     },
     "execution_count": 12,
     "metadata": {},
     "output_type": "execute_result"
    }
   ],
   "source": [
    "def lableFunction(x):\n",
    "    if x=='سحب ':\n",
    "        return 'سحب'\n",
    "    elif x=='سحب':\n",
    "        return 'سحب'\n",
    "    elif x=='إيداع ':\n",
    "        return 'إيداع'\n",
    "    elif x=='إيداع':\n",
    "        return 'إيداع'\n",
    "    elif x=='أخرى':\n",
    "        return 'أخرى'\n",
    "    \n",
    "data['النوع'].apply(lableFunction).unique()"
   ]
  },
  {
   "cell_type": "code",
   "execution_count": 13,
   "metadata": {},
   "outputs": [],
   "source": [
    "data['النوع']=data['النوع'].apply(lableFunction)"
   ]
  },
  {
   "cell_type": "markdown",
   "metadata": {},
   "source": [
    "# Number of messages for each type:"
   ]
  },
  {
   "cell_type": "code",
   "execution_count": 14,
   "metadata": {},
   "outputs": [],
   "source": [
    "llll={}\n",
    "for i in bank_data.index:\n",
    "    llll[i]=data.loc[data['البنك']==i].groupby('النوع').agg({\n",
    "        'النوع':'count'\n",
    "    })['النوع']"
   ]
  },
  {
   "cell_type": "code",
   "execution_count": 15,
   "metadata": {},
   "outputs": [
    {
     "data": {
      "text/html": [
       "<div>\n",
       "<style scoped>\n",
       "    .dataframe tbody tr th:only-of-type {\n",
       "        vertical-align: middle;\n",
       "    }\n",
       "\n",
       "    .dataframe tbody tr th {\n",
       "        vertical-align: top;\n",
       "    }\n",
       "\n",
       "    .dataframe thead th {\n",
       "        text-align: right;\n",
       "    }\n",
       "</style>\n",
       "<table border=\"1\" class=\"dataframe\">\n",
       "  <thead>\n",
       "    <tr style=\"text-align: right;\">\n",
       "      <th></th>\n",
       "      <th>الأهلي</th>\n",
       "      <th>الإنماء</th>\n",
       "      <th>البلاد</th>\n",
       "      <th>الجزيرة</th>\n",
       "      <th>الراجحي</th>\n",
       "      <th>الرياض</th>\n",
       "      <th>السعودي الفرنسي</th>\n",
       "      <th>السعودي للاستثمار</th>\n",
       "      <th>العربي الوطني</th>\n",
       "      <th>ساب</th>\n",
       "    </tr>\n",
       "    <tr>\n",
       "      <th>النوع</th>\n",
       "      <th></th>\n",
       "      <th></th>\n",
       "      <th></th>\n",
       "      <th></th>\n",
       "      <th></th>\n",
       "      <th></th>\n",
       "      <th></th>\n",
       "      <th></th>\n",
       "      <th></th>\n",
       "      <th></th>\n",
       "    </tr>\n",
       "  </thead>\n",
       "  <tbody>\n",
       "    <tr>\n",
       "      <th>أخرى</th>\n",
       "      <td>22</td>\n",
       "      <td>6</td>\n",
       "      <td>3</td>\n",
       "      <td>5</td>\n",
       "      <td>48</td>\n",
       "      <td>5</td>\n",
       "      <td>20</td>\n",
       "      <td>20</td>\n",
       "      <td>2.0</td>\n",
       "      <td>6</td>\n",
       "    </tr>\n",
       "    <tr>\n",
       "      <th>إيداع</th>\n",
       "      <td>35</td>\n",
       "      <td>17</td>\n",
       "      <td>9</td>\n",
       "      <td>3</td>\n",
       "      <td>104</td>\n",
       "      <td>10</td>\n",
       "      <td>34</td>\n",
       "      <td>12</td>\n",
       "      <td>NaN</td>\n",
       "      <td>7</td>\n",
       "    </tr>\n",
       "    <tr>\n",
       "      <th>سحب</th>\n",
       "      <td>80</td>\n",
       "      <td>30</td>\n",
       "      <td>12</td>\n",
       "      <td>4</td>\n",
       "      <td>333</td>\n",
       "      <td>68</td>\n",
       "      <td>50</td>\n",
       "      <td>24</td>\n",
       "      <td>1.0</td>\n",
       "      <td>41</td>\n",
       "    </tr>\n",
       "  </tbody>\n",
       "</table>\n",
       "</div>"
      ],
      "text/plain": [
       "       الأهلي  الإنماء  البلاد  الجزيرة  الراجحي  الرياض  السعودي الفرنسي  \\\n",
       "النوع                                                                       \n",
       "أخرى       22        6       3        5       48       5               20   \n",
       "إيداع      35       17       9        3      104      10               34   \n",
       "سحب        80       30      12        4      333      68               50   \n",
       "\n",
       "       السعودي للاستثمار  العربي الوطني  ساب  \n",
       "النوع                                         \n",
       "أخرى                  20            2.0    6  \n",
       "إيداع                 12            NaN    7  \n",
       "سحب                   24            1.0   41  "
      ]
     },
     "execution_count": 15,
     "metadata": {},
     "output_type": "execute_result"
    }
   ],
   "source": [
    "pd.DataFrame(llll)"
   ]
  },
  {
   "cell_type": "markdown",
   "metadata": {},
   "source": [
    "# Import SVM packages:"
   ]
  },
  {
   "cell_type": "code",
   "execution_count": 16,
   "metadata": {},
   "outputs": [],
   "source": [
    "from sklearn.svm import SVC \n",
    "from sklearn.feature_extraction.text import CountVectorizer\n",
    "from sklearn.preprocessing import LabelEncoder"
   ]
  },
  {
   "cell_type": "markdown",
   "metadata": {},
   "source": [
    "# Assign a value for each type of massage:"
   ]
  },
  {
   "cell_type": "code",
   "execution_count": 17,
   "metadata": {},
   "outputs": [
    {
     "data": {
      "text/html": [
       "<div>\n",
       "<style scoped>\n",
       "    .dataframe tbody tr th:only-of-type {\n",
       "        vertical-align: middle;\n",
       "    }\n",
       "\n",
       "    .dataframe tbody tr th {\n",
       "        vertical-align: top;\n",
       "    }\n",
       "\n",
       "    .dataframe thead th {\n",
       "        text-align: right;\n",
       "    }\n",
       "</style>\n",
       "<table border=\"1\" class=\"dataframe\">\n",
       "  <thead>\n",
       "    <tr style=\"text-align: right;\">\n",
       "      <th></th>\n",
       "      <th>البنك</th>\n",
       "      <th>النوع</th>\n",
       "      <th>الرسالة</th>\n",
       "    </tr>\n",
       "  </thead>\n",
       "  <tbody>\n",
       "    <tr>\n",
       "      <th>0</th>\n",
       "      <td>السعودي الفرنسي</td>\n",
       "      <td>0</td>\n",
       "      <td>شراء عبر نقاط البيع\\nالمبلغ: 40.00 SAR\\nاسم ال...</td>\n",
       "    </tr>\n",
       "    <tr>\n",
       "      <th>1</th>\n",
       "      <td>الراجحي</td>\n",
       "      <td>0</td>\n",
       "      <td>سحب:صراف آلي\\nبطاقة:*1655;مدى\\nمن:*4116\\nمبلغ:...</td>\n",
       "    </tr>\n",
       "  </tbody>\n",
       "</table>\n",
       "</div>"
      ],
      "text/plain": [
       "             البنك  النوع                                            الرسالة\n",
       "0  السعودي الفرنسي      0  شراء عبر نقاط البيع\\nالمبلغ: 40.00 SAR\\nاسم ال...\n",
       "1          الراجحي      0  سحب:صراف آلي\\nبطاقة:*1655;مدى\\nمن:*4116\\nمبلغ:..."
      ]
     },
     "execution_count": 17,
     "metadata": {},
     "output_type": "execute_result"
    }
   ],
   "source": [
    "def lableEncoderFunc(x):\n",
    "    if x=='سحب':\n",
    "        return 0\n",
    "    elif x=='إيداع':\n",
    "        return 1\n",
    "    elif x=='أخرى':\n",
    "        return 2\n",
    "data['النوع']=data['النوع'].apply(lableEncoderFunc)\n",
    "data.head(2)"
   ]
  },
  {
   "cell_type": "markdown",
   "metadata": {},
   "source": [
    "# Clean the messages:"
   ]
  },
  {
   "cell_type": "code",
   "execution_count": 18,
   "metadata": {},
   "outputs": [
    {
     "data": {
      "text/plain": [
       "'شراء عبر نقاط البيعالمبلغ  اسم المتجر نوع البطاقة مدى منفذة من خلال أثيررقم البطاقة التاريخ الوقت '"
      ]
     },
     "execution_count": 18,
     "metadata": {},
     "output_type": "execute_result"
    }
   ],
   "source": [
    "import re\n",
    "nonAlabic = re.compile('([@A-Za-z0-9_]+)|[^\\w\\s]|#|http\\S+|\\n')\n",
    "nonAlabic.sub('', data['الرسالة'][0])"
   ]
  },
  {
   "cell_type": "code",
   "execution_count": 19,
   "metadata": {},
   "outputs": [
    {
     "data": {
      "text/html": [
       "<div>\n",
       "<style scoped>\n",
       "    .dataframe tbody tr th:only-of-type {\n",
       "        vertical-align: middle;\n",
       "    }\n",
       "\n",
       "    .dataframe tbody tr th {\n",
       "        vertical-align: top;\n",
       "    }\n",
       "\n",
       "    .dataframe thead th {\n",
       "        text-align: right;\n",
       "    }\n",
       "</style>\n",
       "<table border=\"1\" class=\"dataframe\">\n",
       "  <thead>\n",
       "    <tr style=\"text-align: right;\">\n",
       "      <th></th>\n",
       "      <th>البنك</th>\n",
       "      <th>النوع</th>\n",
       "      <th>الرسالة</th>\n",
       "    </tr>\n",
       "  </thead>\n",
       "  <tbody>\n",
       "    <tr>\n",
       "      <th>0</th>\n",
       "      <td>السعودي الفرنسي</td>\n",
       "      <td>0</td>\n",
       "      <td>شراء عبر نقاط البيع المبلغ        اسم المتجر  ...</td>\n",
       "    </tr>\n",
       "    <tr>\n",
       "      <th>1</th>\n",
       "      <td>الراجحي</td>\n",
       "      <td>0</td>\n",
       "      <td>سحب صراف آلي بطاقة    مدى من    مبلغ       مكا...</td>\n",
       "    </tr>\n",
       "    <tr>\n",
       "      <th>2</th>\n",
       "      <td>السعودي الفرنسي</td>\n",
       "      <td>1</td>\n",
       "      <td>حوالة واردة  محلية المبلغ المحول        اسم ال...</td>\n",
       "    </tr>\n",
       "    <tr>\n",
       "      <th>3</th>\n",
       "      <td>ساب</td>\n",
       "      <td>0</td>\n",
       "      <td>شراء عبر نقاط البيع بطاقة               مبلغ  ...</td>\n",
       "    </tr>\n",
       "    <tr>\n",
       "      <th>4</th>\n",
       "      <td>السعودي للاستثمار</td>\n",
       "      <td>0</td>\n",
       "      <td>شراء انترنت بطاقة   سفر  من    مبلغ        لدى...</td>\n",
       "    </tr>\n",
       "  </tbody>\n",
       "</table>\n",
       "</div>"
      ],
      "text/plain": [
       "               البنك  النوع                                            الرسالة\n",
       "0    السعودي الفرنسي      0  شراء عبر نقاط البيع المبلغ        اسم المتجر  ...\n",
       "1            الراجحي      0  سحب صراف آلي بطاقة    مدى من    مبلغ       مكا...\n",
       "2    السعودي الفرنسي      1  حوالة واردة  محلية المبلغ المحول        اسم ال...\n",
       "3                ساب      0  شراء عبر نقاط البيع بطاقة               مبلغ  ...\n",
       "4  السعودي للاستثمار      0  شراء انترنت بطاقة   سفر  من    مبلغ        لدى..."
      ]
     },
     "execution_count": 19,
     "metadata": {},
     "output_type": "execute_result"
    }
   ],
   "source": [
    "data['الرسالة']=data['الرسالة'].apply(lambda x : nonAlabic.sub(' ', x))\n",
    "data.head(5)"
   ]
  },
  {
   "cell_type": "markdown",
   "metadata": {},
   "source": [
    "# Transform the message text into a vector"
   ]
  },
  {
   "cell_type": "code",
   "execution_count": 20,
   "metadata": {},
   "outputs": [
    {
     "data": {
      "text/plain": [
       "array([0, 0, 0, ..., 0, 0, 0], dtype=int64)"
      ]
     },
     "execution_count": 20,
     "metadata": {},
     "output_type": "execute_result"
    }
   ],
   "source": [
    "from sklearn.feature_extraction.text import CountVectorizer\n",
    "cv=CountVectorizer()\n",
    "counter_of_message= cv.fit_transform(data['الرسالة'])\n",
    "counter_of_message.toarray()[3]"
   ]
  },
  {
   "cell_type": "markdown",
   "metadata": {},
   "source": [
    "# Train and test"
   ]
  },
  {
   "cell_type": "code",
   "execution_count": 21,
   "metadata": {},
   "outputs": [],
   "source": [
    "from sklearn.model_selection import train_test_split\n",
    "X_train, X_test, y_train, y_test = train_test_split(counter_of_message.toarray(),data['النوع'],train_size=.8,random_state=2)"
   ]
  },
  {
   "cell_type": "markdown",
   "metadata": {},
   "source": [
    "## Looking for better performance"
   ]
  },
  {
   "cell_type": "code",
   "execution_count": 22,
   "metadata": {},
   "outputs": [],
   "source": [
    "model_params={\n",
    "    'SVC':{\n",
    "        'model':SVC(),\n",
    "        'params':{\n",
    "            'C':[1,5,10,15],\n",
    "            'kernel' : ['linear', 'poly', 'rbf',],\n",
    "            'degree':[1,2,3],\n",
    "            'gamma' : ['scale', 'auto']\n",
    "        }\n",
    "    },\n",
    "}"
   ]
  },
  {
   "cell_type": "code",
   "execution_count": 23,
   "metadata": {},
   "outputs": [
    {
     "data": {
      "text/html": [
       "<div>\n",
       "<style scoped>\n",
       "    .dataframe tbody tr th:only-of-type {\n",
       "        vertical-align: middle;\n",
       "    }\n",
       "\n",
       "    .dataframe tbody tr th {\n",
       "        vertical-align: top;\n",
       "    }\n",
       "\n",
       "    .dataframe thead th {\n",
       "        text-align: right;\n",
       "    }\n",
       "</style>\n",
       "<table border=\"1\" class=\"dataframe\">\n",
       "  <thead>\n",
       "    <tr style=\"text-align: right;\">\n",
       "      <th></th>\n",
       "      <th>model name</th>\n",
       "      <th>best_score</th>\n",
       "      <th>best_params</th>\n",
       "    </tr>\n",
       "  </thead>\n",
       "  <tbody>\n",
       "    <tr>\n",
       "      <th>0</th>\n",
       "      <td>SVC</td>\n",
       "      <td>0.97439</td>\n",
       "      <td>{'C': 5, 'degree': 1, 'gamma': 'scale', 'kerne...</td>\n",
       "    </tr>\n",
       "  </tbody>\n",
       "</table>\n",
       "</div>"
      ],
      "text/plain": [
       "  model name   best_score                                        best_params\n",
       "0         SVC     0.97439  {'C': 5, 'degree': 1, 'gamma': 'scale', 'kerne..."
      ]
     },
     "execution_count": 23,
     "metadata": {},
     "output_type": "execute_result"
    }
   ],
   "source": [
    "from sklearn.model_selection import GridSearchCV\n",
    "scorre=[]\n",
    "for mn,mp in model_params.items():\n",
    "    clf=GridSearchCV(mp['model'],mp['params'],cv=5,return_train_score=False)\n",
    "    clf.fit(X_train,y_train)\n",
    "    scorre.append({\n",
    "        'model name ': mn,\n",
    "        'best_score':clf.best_score_,\n",
    "        'best_params':clf.best_params_,\n",
    "    })\n",
    "\n",
    "df=pd.DataFrame(scorre)\n",
    "df"
   ]
  },
  {
   "cell_type": "code",
   "execution_count": 25,
   "metadata": {},
   "outputs": [
    {
     "data": {
      "text/plain": [
       "[{'model name ': 'SVC',\n",
       "  'best_score': 0.974390243902439,\n",
       "  'best_params': {'C': 5, 'degree': 1, 'gamma': 'scale', 'kernel': 'poly'}}]"
      ]
     },
     "execution_count": 25,
     "metadata": {},
     "output_type": "execute_result"
    }
   ],
   "source": [
    "scorre"
   ]
  },
  {
   "cell_type": "markdown",
   "metadata": {},
   "source": [
    "# Start train the data:"
   ]
  },
  {
   "cell_type": "code",
   "execution_count": 26,
   "metadata": {},
   "outputs": [
    {
     "data": {
      "text/plain": [
       "SVC(C=5, degree=1)"
      ]
     },
     "execution_count": 26,
     "metadata": {},
     "output_type": "execute_result"
    }
   ],
   "source": [
    "from sklearn.svm import SVC \n",
    "\n",
    "model=SVC(\n",
    "    C=5,\n",
    "    degree= 1, \n",
    "    gamma= 'scale', \n",
    "    kernel= 'rbf'\n",
    ")\n",
    "model.fit(X_train,y_train)"
   ]
  },
  {
   "cell_type": "markdown",
   "metadata": {},
   "source": [
    "### Accuracy:"
   ]
  },
  {
   "cell_type": "code",
   "execution_count": 27,
   "metadata": {},
   "outputs": [
    {
     "data": {
      "text/plain": [
       "0.975609756097561"
      ]
     },
     "execution_count": 27,
     "metadata": {},
     "output_type": "execute_result"
    }
   ],
   "source": [
    "model.score(X_test,y_test)"
   ]
  },
  {
   "cell_type": "markdown",
   "metadata": {},
   "source": [
    "# Confusion matrix:"
   ]
  },
  {
   "cell_type": "code",
   "execution_count": 28,
   "metadata": {},
   "outputs": [
    {
     "data": {
      "text/plain": [
       "array([[121,   0,   0],\n",
       "       [  2,  46,   1],\n",
       "       [  2,   0,  33]], dtype=int64)"
      ]
     },
     "execution_count": 28,
     "metadata": {},
     "output_type": "execute_result"
    }
   ],
   "source": [
    "from sklearn.metrics import classification_report,confusion_matrix\n",
    "p=model.predict(X_test)\n",
    "confusion_matrix(y_test,p)"
   ]
  },
  {
   "cell_type": "markdown",
   "metadata": {},
   "source": [
    "# Classification report:"
   ]
  },
  {
   "cell_type": "code",
   "execution_count": 29,
   "metadata": {},
   "outputs": [
    {
     "name": "stdout",
     "output_type": "stream",
     "text": [
      "              precision    recall  f1-score   support\n",
      "\n",
      "           0       0.97      1.00      0.98       121\n",
      "           1       1.00      0.94      0.97        49\n",
      "           2       0.97      0.94      0.96        35\n",
      "\n",
      "    accuracy                           0.98       205\n",
      "   macro avg       0.98      0.96      0.97       205\n",
      "weighted avg       0.98      0.98      0.98       205\n",
      "\n"
     ]
    }
   ],
   "source": [
    "print(classification_report(y_test,p))"
   ]
  },
  {
   "cell_type": "code",
   "execution_count": 34,
   "metadata": {},
   "outputs": [
    {
     "name": "stderr",
     "output_type": "stream",
     "text": [
      "C:\\Users\\isara\\anaconda3\\lib\\site-packages\\sklearn\\utils\\deprecation.py:87: FutureWarning: Function plot_confusion_matrix is deprecated; Function `plot_confusion_matrix` is deprecated in 1.0 and will be removed in 1.2. Use one of the class methods: ConfusionMatrixDisplay.from_predictions or ConfusionMatrixDisplay.from_estimator.\n",
      "  warnings.warn(msg, category=FutureWarning)\n"
     ]
    },
    {
     "data": {
      "image/png": "[encoded data removed]",
      "text/plain": [
       "<Figure size 432x288 with 2 Axes>"
      ]
     },
     "metadata": {
      "needs_background": "light"
     },
     "output_type": "display_data"
    }
   ],
   "source": [
    "import matplotlib.pyplot as plt\n",
    "from sklearn.datasets import make_classification\n",
    "from sklearn.metrics import plot_confusion_matrix\n",
    "from sklearn.model_selection import train_test_split\n",
    "from sklearn.svm import SVC\n",
    "import joblib\n",
    "\n",
    "plot_confusion_matrix(model, X_test, y_test)  \n",
    "plt.show()"
   ]
  },
  {
   "cell_type": "markdown",
   "metadata": {},
   "source": [
    "# Prepare pipeline model:"
   ]
  },
  {
   "cell_type": "code",
   "execution_count": 53,
   "metadata": {},
   "outputs": [],
   "source": [
    "X_trainpip, X_testpip, y_trainpip, y_testpip = train_test_split(data['الرسالة'],data['النوع'],train_size=.8,random_state=2)"
   ]
  },
  {
   "cell_type": "code",
   "execution_count": 54,
   "metadata": {},
   "outputs": [
    {
     "data": {
      "text/plain": [
       "Pipeline(steps=[('vector', CountVectorizer()), ('SVC', SVC(C=5, degree=1))])"
      ]
     },
     "execution_count": 54,
     "metadata": {},
     "output_type": "execute_result"
    }
   ],
   "source": [
    "from sklearn.pipeline import Pipeline\n",
    "\n",
    "pip=Pipeline([\n",
    "    ('vector',CountVectorizer()),\n",
    "    ('SVC',SVC(\n",
    "    C=5,\n",
    "    degree= 1, \n",
    "    gamma= 'scale', \n",
    "    kernel= 'rbf'\n",
    ")),\n",
    "])\n",
    "\n",
    "pip.fit(X_trainpip,y_trainpip)"
   ]
  },
  {
   "cell_type": "markdown",
   "metadata": {},
   "source": [
    "### Accuracy:"
   ]
  },
  {
   "cell_type": "code",
   "execution_count": 70,
   "metadata": {},
   "outputs": [
    {
     "data": {
      "text/plain": [
       "0.9607843137254902"
      ]
     },
     "execution_count": 70,
     "metadata": {},
     "output_type": "execute_result"
    }
   ],
   "source": [
    "pip.score(X_testpip,y_testpip)"
   ]
  },
  {
   "cell_type": "markdown",
   "metadata": {},
   "source": [
    "# Tests:"
   ]
  },
  {
   "cell_type": "code",
   "execution_count": 71,
   "metadata": {},
   "outputs": [
    {
     "data": {
      "text/plain": [
       "array([0], dtype=int64)"
      ]
     },
     "execution_count": 71,
     "metadata": {},
     "output_type": "execute_result"
    }
   ],
   "source": [
    "x='''\"\"حوالة صادرة: محلية مقبولة\n",
    "مصرف:RIYADH BANK\n",
    "من:*2067\n",
    "مبلغ:SAR 100.00\n",
    "الى:sara ibrahim\n",
    "لآيبان:*9940\n",
    "الرسوم:SAR 0.58\n",
    "مرجع:9116092200073716\n",
    "في:22-09-16 01:03\n",
    "\"\n",
    "\"\n",
    "'''\n",
    "pip.predict([x])"
   ]
  },
  {
   "cell_type": "code",
   "execution_count": 72,
   "metadata": {},
   "outputs": [
    {
     "data": {
      "text/plain": [
       "array([1], dtype=int64)"
      ]
     },
     "execution_count": 72,
     "metadata": {},
     "output_type": "execute_result"
    }
   ],
   "source": [
    "x= '''حوالة واردة:داخلية\n",
    "مبلغ:SAR 200.00\n",
    "الى:*2067\n",
    "من:منال الرميحي\n",
    "من حساب:*9165\n",
    "في:22-09-15 19:27\n",
    "'''\n",
    "pip.predict([x])"
   ]
  },
  {
   "cell_type": "code",
   "execution_count": 73,
   "metadata": {},
   "outputs": [
    {
     "data": {
      "text/plain": [
       "array([2], dtype=int64)"
      ]
     },
     "execution_count": 73,
     "metadata": {},
     "output_type": "execute_result"
    }
   ],
   "source": [
    "x= '''كلمة مرور لمرة واحدة\n",
    "رمز:6821\n",
    "لـ :اضافة المستفيد - تطبيق المباشر\n",
    "'''\n",
    "pip.predict([x])"
   ]
  },
  {
   "cell_type": "code",
   "execution_count": 74,
   "metadata": {},
   "outputs": [
    {
     "data": {
      "text/plain": [
       "array([2], dtype=int64)"
      ]
     },
     "execution_count": 74,
     "metadata": {},
     "output_type": "execute_result"
    }
   ],
   "source": [
    "x= '''مز التفعيل 2628 للدخول إلى الأهلي موبايل في ‬‪20/09/2022 ‬‪07:19 \n",
    "مشاركة الرمز مع الآخرين يعرضك للاحتيال المباشر\n",
    "'''\n",
    "pip.predict([x])"
   ]
  },
  {
   "cell_type": "code",
   "execution_count": 75,
   "metadata": {},
   "outputs": [
    {
     "data": {
      "text/plain": [
       "array([1], dtype=int64)"
      ]
     },
     "execution_count": 75,
     "metadata": {},
     "output_type": "execute_result"
    }
   ],
   "source": [
    "x= '''حوالة واردة مكافأة طلاب\n",
    "مبلغ 990SAR \n",
    "حساب103*594\n",
    "في29/08/2022 04:07المباشر\n",
    "'''\n",
    "pip.predict([x])"
   ]
  },
  {
   "cell_type": "code",
   "execution_count": 76,
   "metadata": {},
   "outputs": [
    {
     "data": {
      "text/plain": [
       "array([0], dtype=int64)"
      ]
     },
     "execution_count": 76,
     "metadata": {},
     "output_type": "execute_result"
    }
   ],
   "source": [
    "x= '''حوالة صادرة مكافأة طلاب\n",
    "مبلغ 990SAR \n",
    "حساب103*594\n",
    "في29/08/2022 04:07المباشر\n",
    "'''\n",
    "pip.predict([x])"
   ]
  },
  {
   "cell_type": "code",
   "execution_count": 77,
   "metadata": {},
   "outputs": [
    {
     "data": {
      "text/plain": [
       "array([1], dtype=int64)"
      ]
     },
     "execution_count": 77,
     "metadata": {},
     "output_type": "execute_result"
    }
   ],
   "source": [
    "x= '''ايداع:صراف آلي\n",
    "الى:*9553\n",
    "مبلغ:SAR 10000.00\n",
    "في:22-07-25 19:52\n",
    "'''\n",
    "pip.predict([x])"
   ]
  },
  {
   "cell_type": "code",
   "execution_count": 78,
   "metadata": {},
   "outputs": [
    {
     "data": {
      "text/plain": [
       "array([0], dtype=int64)"
      ]
     },
     "execution_count": 78,
     "metadata": {},
     "output_type": "execute_result"
    }
   ],
   "source": [
    "x= '''شراء انترنت\n",
    "بطاقة:*9543;مدى(Apple Pay)\n",
    "من:*9553\n",
    "لدى:STC Pay\n",
    "مبلغ:SAR 22.87\n",
    "في:22-07-25 09:49\n",
    "'''\n",
    "pip.predict([x])"
   ]
  }
 ],
 "metadata": {
  "celltoolbar": "Raw Cell Format",
  "kernelspec": {
   "display_name": "Python 3 (ipykernel)",
   "language": "python",
   "name": "python3"
  },
  "language_info": {
   "codemirror_mode": {
    "name": "ipython",
    "version": 3
   },
   "file_extension": ".py",
   "mimetype": "text/x-python",
   "name": "python",
   "nbconvert_exporter": "python",
   "pygments_lexer": "ipython3",
   "version": "3.9.12"
  },
  "vscode": {
   "interpreter": {
    "hash": "edce561f3725075a52e59839e63e0b4cf499f4f88e89365d137f9f7366c5697c"
   }
  }
 },
 "nbformat": 4,
 "nbformat_minor": 2
}
